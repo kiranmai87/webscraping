{
  "nbformat": 4,
  "nbformat_minor": 0,
  "metadata": {
    "colab": {
      "provenance": [],
      "authorship_tag": "ABX9TyPpi9zxVQAzkpQjljlin3WN",
      "include_colab_link": true
    },
    "kernelspec": {
      "name": "python3",
      "display_name": "Python 3"
    },
    "language_info": {
      "name": "python"
    }
  },
  "cells": [
    {
      "cell_type": "markdown",
      "metadata": {
        "id": "view-in-github",
        "colab_type": "text"
      },
      "source": [
        "<a href=\"https://colab.research.google.com/github/kiranmai87/webscraping/blob/main/firstcry.ipynb\" target=\"_parent\"><img src=\"https://colab.research.google.com/assets/colab-badge.svg\" alt=\"Open In Colab\"/></a>"
      ]
    },
    {
      "cell_type": "code",
      "execution_count": 1,
      "metadata": {
        "id": "jqB9kk8SiAuO"
      },
      "outputs": [],
      "source": [
        "import requests\n",
        "import pandas as pd\n",
        "from bs4 import BeautifulSoup"
      ]
    },
    {
      "cell_type": "code",
      "source": [
        "response=requests.get(\"https://www.firstcry.com/bath-toys/5/51?scat=51@@@@@~7797@@@@@1@0@20@@@@@@@@@@&sort=Popularity&ref2=menu_dd_bath_squeeze-toys_H\")\n",
        "print(response)"
      ],
      "metadata": {
        "id": "cWxSYs_O810G",
        "colab": {
          "base_uri": "https://localhost:8080/"
        },
        "outputId": "495f1d46-5baa-4ac4-81a3-ddfe23731a83"
      },
      "execution_count": 2,
      "outputs": [
        {
          "output_type": "stream",
          "name": "stdout",
          "text": [
            "<Response [200]>\n"
          ]
        }
      ]
    },
    {
      "cell_type": "code",
      "source": [
        "soup=BeautifulSoup(response.content,\"html.parser\")\n",
        "#print(soup)\n",
        "names=soup.find_all('div',class_=\"li_txt1 wifi lft R13_42\")\n",
        "name=[]\n",
        "for i in names[1:len(names)+1]:\n",
        "  name.append(i.get_text())\n",
        "#print(name)\n",
        "\n",
        "prices=soup.find_all('span',class_=\"r1 B14_42\")\n",
        "price=[]\n",
        "for i in prices[1:len(names)+1]:\n",
        "  price.append(i.get_text())\n",
        "#print(price)\n",
        "\n",
        "discounts=soup.find_all('a',class_=\"R12_red\")\n",
        "discount=[]\n",
        "for i in discounts[1:len(names)+1]:\n",
        "  discount.append(i.get_text())\n",
        "#print(discount)\n",
        "\n",
        "stars=soup.find_all('div',class_=\"small_star\")\n",
        "star=[]\n",
        "for i in stars[1:len(names)+1]:\n",
        "  d=i.span['data-rate']\n",
        "  star.append(d)\n",
        "#print(star)\n",
        "\n",
        "links=soup.find_all('div',class_=\"list_img wifi\")\n",
        "link=[]\n",
        "for i in links[1:len(names)+1]:\n",
        "  link.append(i.a['href'])\n",
        "#print(link)\n",
        "\n",
        "images=soup.find_all('div',class_='list_img wifi')\n",
        "image=[]\n",
        "for i in images[1:len(names)+1]:\n",
        "  d=\"https:\"+i.img['src']\n",
        "  image.append(d)\n",
        "#print(image)\n",
        "\n",
        "data={\n",
        "    \"Names\":pd.Series(name),\n",
        "    \"Price\":pd.Series(price),\n",
        "    \"Discount\":pd.Series(discount),\n",
        "    \"Stars\":pd.Series(star),\n",
        "    \"Images\":pd.Series(image),\n",
        "    \"Links\":pd.Series(link),\n",
        "}\n",
        "#print(data)\n",
        "df=pd.DataFrame(data)\n",
        "#print(df)\n",
        "df.to_csv(\"Firstcry_toys.csv\")\n",
        "\n"
      ],
      "metadata": {
        "id": "sZba-VQ0n6k5"
      },
      "execution_count": 4,
      "outputs": []
    },
    {
      "cell_type": "markdown",
      "source": [
        "# New Section"
      ],
      "metadata": {
        "id": "1Vm8KKv32ELs"
      }
    }
  ]
}